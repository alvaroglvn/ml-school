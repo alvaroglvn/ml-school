{
 "cells": [
  {
   "cell_type": "code",
   "execution_count": null,
   "id": "7fd791c3-7d58-4b8f-9d6c-ac40f5a5020b",
   "metadata": {},
   "outputs": [
    {
     "name": "stdout",
     "output_type": "stream",
     "text": [
      "  species     island  culmen_length_mm  culmen_depth_mm  flipper_length_mm  \\\n",
      "0  Adelie  Torgersen              39.1             18.7              181.0   \n",
      "1  Adelie  Torgersen              39.5             17.4              186.0   \n",
      "2  Adelie  Torgersen              40.3             18.0              195.0   \n",
      "3  Adelie  Torgersen               NaN              NaN                NaN   \n",
      "4  Adelie  Torgersen              36.7             19.3              193.0   \n",
      "\n",
      "   body_mass_g     sex  \n",
      "0       3750.0    MALE  \n",
      "1       3800.0  FEMALE  \n",
      "2       3250.0  FEMALE  \n",
      "3          NaN     NaN  \n",
      "4       3450.0  FEMALE  \n"
     ]
    }
   ],
   "source": [
    "import pandas as pd  # type: ignore\n",
    "\n",
    "penguins_df = pd.read_csv(\"data/penguins.csv\")\n",
    "print(penguins_df.head())"
   ]
  },
  {
   "cell_type": "code",
   "execution_count": null,
   "id": "3f391d68",
   "metadata": {},
   "outputs": [
    {
     "name": "stdout",
     "output_type": "stream",
     "text": [
      "V=0.05 | Features show a very weak association\n"
     ]
    }
   ],
   "source": [
    "# Strength of association between 'species' and 'sex' using Cramer's V\n",
    "from scipy.stats.contingency import association  # type: ignore\n",
    "\n",
    "# Cross tabulation table\n",
    "cross_tab = pd.crosstab(penguins_df[\"sex\"].dropna(), penguins_df[\"species\"])\n",
    "\n",
    "# Cramer's V calculation\n",
    "v = association(cross_tab, method=\"cramer\")\n",
    "\n",
    "# Print results\n",
    "match v:\n",
    "    case 0:\n",
    "        print(f\"V={v:.2f} | Features are not associated\")\n",
    "    case _ if 0.01 <= v <= 0.1:\n",
    "        print(f\"V={v:.2f} | Features show a very weak association\")\n",
    "    case _ if 0.1 <= v <= 0.3:\n",
    "        print(f\"V={v:.2f} | Features show a weak association\")\n",
    "    case _ if 0.3 <= v <= 0.5:\n",
    "        print(f\"V={v:.2f} | show a moderate association\")\n",
    "    case _ if v > 0.5:\n",
    "        print(f\"V={v:.2f} | are strongly related\")"
   ]
  }
 ],
 "metadata": {
  "kernelspec": {
   "display_name": ".venv",
   "language": "python",
   "name": "python3"
  },
  "language_info": {
   "codemirror_mode": {
    "name": "ipython",
    "version": 3
   },
   "file_extension": ".py",
   "mimetype": "text/x-python",
   "name": "python",
   "nbconvert_exporter": "python",
   "pygments_lexer": "ipython3",
   "version": "3.12.7"
  }
 },
 "nbformat": 4,
 "nbformat_minor": 5
}
